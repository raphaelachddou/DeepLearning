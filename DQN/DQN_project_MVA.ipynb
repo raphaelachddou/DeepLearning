{
 "cells": [
  {
   "cell_type": "markdown",
   "metadata": {},
   "source": [
    "**You may need to install [OpenCV](https://pypi.python.org/pypi/opencv-python) and [scikit-video](http://www.scikit-video.org/stable/).**"
   ]
  },
  {
   "cell_type": "code",
   "execution_count": 2,
   "metadata": {},
   "outputs": [
    {
     "name": "stderr",
     "output_type": "stream",
     "text": [
      "/Users/raphael/anaconda3/lib/python3.6/site-packages/h5py/__init__.py:34: FutureWarning: Conversion of the second argument of issubdtype from `float` to `np.floating` is deprecated. In future, it will be treated as `np.float64 == np.dtype(float).type`.\n",
      "  from ._conv import register_converters as _register_converters\n",
      "Using TensorFlow backend.\n"
     ]
    }
   ],
   "source": [
    "import keras\n",
    "import numpy as np\n",
    "import io\n",
    "import base64\n",
    "from IPython.display import HTML\n",
    "import skvideo\n",
    "\n",
    "skvideo.setFFmpegPath('/Users/raphael/anaconda3/bin')\n",
    "\n",
    "import skvideo.io\n",
    "import cv2\n",
    "import json\n",
    "import tqdm\n",
    "from keras.models import Sequential,model_from_json\n",
    "from keras.layers.core import Flatten\n",
    "from keras.layers.core import Dense\n",
    "from keras.optimizers import sgd,adam\n",
    "from keras.layers import Conv2D, MaxPooling2D, Activation, AveragePooling2D,Reshape,BatchNormalization"
   ]
  },
  {
   "cell_type": "markdown",
   "metadata": {},
   "source": [
    "# MiniProject #3: Deep Reinforcement Learning"
   ]
  },
  {
   "cell_type": "markdown",
   "metadata": {},
   "source": [
    "__Notations__: $E_p$ is the expectation under probability $p$. Please justify each of your answer and widely comment your code."
   ]
  },
  {
   "cell_type": "markdown",
   "metadata": {},
   "source": [
    "# Context"
   ]
  },
  {
   "cell_type": "markdown",
   "metadata": {},
   "source": [
    "In a reinforcement learning algorithm, we modelize each step $t$ as an action $a_t$ obtained from a state $s_t$, i.e. $\\{(a_{t},s_{t})_{t\\leq T}\\}$ having the Markov property. We consider a discount factor $\\gamma \\in [0,1]$ that ensures convergence. The goal is to find among all the policies $\\pi$, one that maximizes the expected reward:\n",
    "\n",
    "\\begin{equation*}\n",
    "R(\\pi)=\\sum_{t\\leq T}E_{p^{\\pi}}[\\gamma^t r(s_{t},a_{t})] \\> ,\n",
    "\\end{equation*}\n",
    "\n",
    "where: \n",
    "\\begin{equation*}p^{\\pi}(a_{0},a_{1},s_{1},...,a_{T},s_{T})=p(a_{0})\\prod_{t=1}^{T}\\pi(a_{t}|s_{t})p(s_{t+1}|s_{t},a_{t}) \\> .\n",
    "\\end{equation*}\n",
    "\n",
    "We note the $Q$-function:\n",
    "\n",
    "\\begin{equation*}Q^\\pi(s,a)=E_{p^{\\pi}}[\\sum_{t\\leq T}\\gamma^{t}r(s_{t},a_{t})|s_{0}=s,a_{0}=a] \\> .\n",
    "\\end{equation*}\n",
    "\n",
    "Thus, the optimal Q function is:\n",
    "\\begin{equation*}\n",
    "Q^*(s,a)=\\max_{\\pi}Q^\\pi(s,a) \\> .\n",
    "\\end{equation*}\n",
    "\n",
    "In this project, we will apply the deep reinforcement learning techniques to a simple game: an agent will have to learn from scratch a policy that will permit it maximizing a reward."
   ]
  },
  {
   "cell_type": "markdown",
   "metadata": {},
   "source": [
    "## The environment, the agent and the game"
   ]
  },
  {
   "cell_type": "markdown",
   "metadata": {},
   "source": [
    "### The environment"
   ]
  },
  {
   "cell_type": "markdown",
   "metadata": {},
   "source": [
    "```Environment``` is an abstract class that represents the states, rewards, and actions to obtain the new state."
   ]
  },
  {
   "cell_type": "code",
   "execution_count": 2,
   "metadata": {
    "collapsed": true
   },
   "outputs": [],
   "source": [
    "class Environment(object):\n",
    "    def __init__(self):\n",
    "        pass\n",
    "\n",
    "    def act(self, act):\n",
    "        \"\"\"\n",
    "        One can act on the environment and obtain its reaction:\n",
    "        - the new state\n",
    "        - the reward of the new state\n",
    "        - should we continue the game?\n",
    "\n",
    "        :return: state, reward, game_over\n",
    "        \"\"\"\n",
    "        pass\n",
    "\n",
    "\n",
    "    def reset(self):\n",
    "        \"\"\"\n",
    "        Reinitialize the environment to a random state and returns\n",
    "        the original state\n",
    "\n",
    "        :return: state\n",
    "        \"\"\"\n",
    "        pass\n",
    "    \n",
    "    def draw(self):\n",
    "        \"\"\"\n",
    "        Visualize in the console or graphically the current state\n",
    "        \"\"\"\n",
    "        pass"
   ]
  },
  {
   "cell_type": "markdown",
   "metadata": {},
   "source": [
    "The method ```act``` allows to act on the environment at a given state $s_t$ (stored internally), via action $a_t$. The method will return the new state $s_{t+1}$, the reward $r(s_{t},a_{t})$ and determines if $t\\leq T$ (*game_over*).\n",
    "\n",
    "The method ```reset``` simply reinitializes the environment to a random state $s_0$.\n",
    "\n",
    "The method ```draw``` displays the current state $s_t$ (this is useful to check the behavior of the Agent).\n",
    "\n",
    "We modelize $s_t$ as a tensor, while $a_t$ is an integer."
   ]
  },
  {
   "cell_type": "markdown",
   "metadata": {},
   "source": [
    "### The Agent"
   ]
  },
  {
   "cell_type": "markdown",
   "metadata": {},
   "source": [
    "The goal of the ```Agent``` is to interact with the ```Environment``` by proposing actions $a_t$ obtained from a given state $s_t$ to attempt to maximize its __reward__ $r(s_t,a_t)$. We propose the following abstract class:"
   ]
  },
  {
   "cell_type": "code",
   "execution_count": 4,
   "metadata": {
    "collapsed": true
   },
   "outputs": [],
   "source": [
    "class Agent(object):\n",
    "    def __init__(self, epsilon=0.2, n_action=4):\n",
    "        self.epsilon = epsilon\n",
    "        self.n_action = n_action\n",
    "    \n",
    "    def set_epsilon(self,e):\n",
    "        self.epsilon = e\n",
    "\n",
    "    def act(self,s,train=True):\n",
    "        \"\"\" This function should return the next action to do:\n",
    "        an integer between 0 and 4 (not included) with a random exploration of epsilon\"\"\"\n",
    "        if train:\n",
    "            if np.random.rand() <= self.epsilon:\n",
    "                a = np.random.randint(0, self.n_action, size=1)[0]\n",
    "            else:\n",
    "                a = self.learned_act(s)\n",
    "        else: # in some cases, this can improve the performance.. remove it if poor performances\n",
    "            a = self.learned_act(s)\n",
    "\n",
    "        return a\n",
    "\n",
    "    def learned_act(self,s):\n",
    "        \"\"\" Act via the policy of the agent, from a given state s\n",
    "        it proposes an action a\"\"\"\n",
    "        pass\n",
    "\n",
    "    def reinforce(self, s, n_s, a, r, game_over_):\n",
    "        \"\"\" This function is the core of the learning algorithm. \n",
    "        It takes as an input the current state s_, the next state n_s_\n",
    "        the action a_ used to move from s_ to n_s_ and the reward r_.\n",
    "        \n",
    "        Its goal is to learn a policy.\n",
    "        \"\"\"\n",
    "        pass\n",
    "\n",
    "    def save(self):\n",
    "        \"\"\" This function returns basic stats if applicable: the\n",
    "        loss and/or the model\"\"\"\n",
    "        pass\n",
    "\n",
    "    def load(self):\n",
    "        \"\"\" This function allows to restore a model\"\"\"\n",
    "        pass"
   ]
  },
  {
   "cell_type": "markdown",
   "metadata": {},
   "source": [
    "***\n",
    "__Question 1__:\n",
    "Explain the function act. Why is ```epsilon``` essential?"
   ]
  },
  {
   "cell_type": "markdown",
   "metadata": {},
   "source": [
    "**\n",
    "The function act has two sub-cases : training time and test time. The goal of the function act is to choose the next action of the agent. The epsilon has an essential purpose : exploration. In this case there is a probability epsilon to choose a random action from the current state and 1-epsilon to choose the learned action from the current state. If one would choose to get rid of this step, then the agent would never improve its knowledge of the environment, and would probably miss some better reward. **"
   ]
  },
  {
   "cell_type": "markdown",
   "metadata": {},
   "source": [
    "***\n",
    "### The Game"
   ]
  },
  {
   "cell_type": "markdown",
   "metadata": {},
   "source": [
    "The ```Agent``` and the ```Environment``` work in an interlaced way as in the following (take some time to understand this code as it is the core of the project)\n",
    "\n",
    "```python\n",
    "\n",
    "epoch = 300\n",
    "env = Environment()\n",
    "agent = Agent()\n",
    "\n",
    "\n",
    "# Number of won games\n",
    "score = 0\n",
    "loss = 0\n",
    "\n",
    "\n",
    "for e in range(epoch):\n",
    "    # At each epoch, we restart to a fresh game and get the initial state\n",
    "    state = env.reset()\n",
    "    # This assumes that the games will end\n",
    "    game_over = False\n",
    "\n",
    "    win = 0\n",
    "    lose = 0\n",
    "    \n",
    "    while not game_over:\n",
    "        # The agent performs an action\n",
    "        action = agent.act(state)\n",
    "\n",
    "        # Apply an action to the environment, get the next state, the reward\n",
    "        # and if the games end\n",
    "        prev_state = state\n",
    "        state, reward, game_over = env.act(action)\n",
    "\n",
    "        # Update the counters\n",
    "        if reward > 0:\n",
    "            win = win + reward\n",
    "        if reward < 0:\n",
    "            lose = lose -reward\n",
    "\n",
    "        # Apply the reinforcement strategy\n",
    "        loss = agent.reinforce(prev_state, state,  action, reward, game_over)\n",
    "\n",
    "    # Save as a mp4\n",
    "    if e % 10 == 0:\n",
    "        env.draw(e)\n",
    "\n",
    "    # Update stats\n",
    "    score += win-lose\n",
    "\n",
    "    print(\"Epoch {:03d}/{:03d} | Loss {:.4f} | Win/lose count {}/{} ({})\"\n",
    "          .format(e, epoch, loss, win, lose, win-lose))\n",
    "    agent.save()\n",
    "```"
   ]
  },
  {
   "cell_type": "markdown",
   "metadata": {},
   "source": [
    "# The game, *eat cheese*"
   ]
  },
  {
   "cell_type": "markdown",
   "metadata": {},
   "source": [
    "A rat runs on an island and tries to eat as much as possible. The island is subdivided into $N\\times N$ cells, in which there are cheese (+0.5) and poisonous cells (-1). The rat has a visibility of 2 cells (thus it can see $5^2$ cells). The rat is given a time $T$ to accumulate as much food as possible. It can perform 4 actions: going up, down, left, right. \n",
    "\n",
    "The goal is to code an agent to solve this task that will learn by trial and error. We propose the following environment:"
   ]
  },
  {
   "cell_type": "code",
   "execution_count": 5,
   "metadata": {
    "collapsed": true
   },
   "outputs": [],
   "source": [
    "class Environment(object):\n",
    "    def __init__(self, grid_size=10, max_time=500, temperature=0.1):\n",
    "        grid_size = grid_size+4\n",
    "        self.grid_size = grid_size\n",
    "        self.max_time = max_time\n",
    "        self.temperature = temperature\n",
    "\n",
    "        #board on which one plays\n",
    "        self.board = np.zeros((grid_size,grid_size))\n",
    "        self.position = np.zeros((grid_size,grid_size))\n",
    "\n",
    "        # coordinate of the cat\n",
    "        self.x = 0\n",
    "        self.y = 1\n",
    "\n",
    "        # self time\n",
    "        self.t = 0\n",
    "\n",
    "        self.scale=16\n",
    "\n",
    "        self.to_draw = np.zeros((max_time+2, grid_size*self.scale, grid_size*self.scale, 3))\n",
    "\n",
    "\n",
    "    def draw(self,e):\n",
    "        skvideo.io.vwrite(str(e) + '.mp4', self.to_draw)\n",
    "\n",
    "    def get_frame(self,t):\n",
    "        b = np.zeros((self.grid_size,self.grid_size,3))+128\n",
    "        b[self.board>0,0] = 256\n",
    "        b[self.board < 0, 2] = 256\n",
    "        b[self.x,self.y,:]=256\n",
    "        b[-2:,:,:]=0\n",
    "        b[:,-2:,:]=0\n",
    "        b[:2,:,:]=0\n",
    "        b[:,:2,:]=0\n",
    "        \n",
    "        b =  cv2.resize(b, None, fx=self.scale, fy=self.scale, interpolation=cv2.INTER_NEAREST)\n",
    "\n",
    "        self.to_draw[t,:,:,:]=b\n",
    "\n",
    "\n",
    "    def act(self, action):\n",
    "        \"\"\"This function returns the new state, reward and decides if the\n",
    "        game ends.\"\"\"\n",
    "\n",
    "        self.get_frame(int(self.t))\n",
    "\n",
    "        self.position = np.zeros((self.grid_size, self.grid_size))\n",
    "\n",
    "        self.position[0:2,:]= -1\n",
    "        self.position[:,0:2] = -1\n",
    "        self.position[-2:, :] = -1\n",
    "        self.position[-2:, :] = -1\n",
    "\n",
    "        self.position[self.x, self.y] = 1\n",
    "        if action == 0:\n",
    "            if self.x == self.grid_size-3:\n",
    "                self.x = self.x-1\n",
    "            else:\n",
    "                self.x = self.x + 1\n",
    "        elif action == 1:\n",
    "            if self.x == 2:\n",
    "                self.x = self.x+1\n",
    "            else:\n",
    "                self.x = self.x-1\n",
    "        elif action == 2:\n",
    "            if self.y == self.grid_size - 3:\n",
    "                self.y = self.y - 1\n",
    "            else:\n",
    "                self.y = self.y + 1\n",
    "        elif action == 3:\n",
    "            if self.y == 2:\n",
    "                self.y = self.y + 1\n",
    "            else:\n",
    "                self.y = self.y - 1\n",
    "        else:\n",
    "            RuntimeError('Error: action not recognized')\n",
    "\n",
    "        self.t = self.t + 1\n",
    "        reward = self.board[self.x, self.y]\n",
    "        self.board[self.x, self.y] = 0\n",
    "        game_over = self.t > self.max_time\n",
    "        state = np.concatenate((self.board.reshape(self.grid_size, self.grid_size,1),\n",
    "                        self.position.reshape(self.grid_size, self.grid_size,1)),axis=2)\n",
    "        state = state[self.x-2:self.x+3,self.y-2:self.y+3,:]\n",
    "\n",
    "        return state, reward, game_over\n",
    "\n",
    "    def reset(self):\n",
    "        \"\"\"This function resets the game and returns the initial state\"\"\"\n",
    "\n",
    "        self.x = np.random.randint(3, self.grid_size-3, size=1)[0]\n",
    "        self.y = np.random.randint(3, self.grid_size-3, size=1)[0]\n",
    "\n",
    "\n",
    "        bonus = 0.5*np.random.binomial(1,self.temperature,size=self.grid_size**2)\n",
    "        bonus = bonus.reshape(self.grid_size,self.grid_size)\n",
    "\n",
    "        malus = -1.0*np.random.binomial(1,self.temperature,size=self.grid_size**2)\n",
    "        malus = malus.reshape(self.grid_size, self.grid_size)\n",
    "\n",
    "        self.to_draw = np.zeros((self.max_time+2, self.grid_size*self.scale, self.grid_size*self.scale, 3))\n",
    "\n",
    "\n",
    "        malus[bonus>0]=0\n",
    "\n",
    "        self.board = bonus + malus\n",
    "\n",
    "        self.position = np.zeros((self.grid_size, self.grid_size))\n",
    "        self.position[0:2,:]= -1\n",
    "        self.position[:,0:2] = -1\n",
    "        self.position[-2:, :] = -1\n",
    "        self.position[-2:, :] = -1\n",
    "        self.board[self.x,self.y] = 0\n",
    "        self.t = 0\n",
    "\n",
    "        state = np.concatenate((\n",
    "                               self.board.reshape(self.grid_size, self.grid_size,1),\n",
    "                        self.position.reshape(self.grid_size, self.grid_size,1)),axis=2)\n",
    "\n",
    "        state = state[self.x - 2:self.x + 3, self.y - 2:self.y + 3, :]\n",
    "        return state"
   ]
  },
  {
   "cell_type": "markdown",
   "metadata": {},
   "source": [
    "The following elements are important because they correspond to the hyper parameters for this project:"
   ]
  },
  {
   "cell_type": "code",
   "execution_count": 6,
   "metadata": {
    "collapsed": true
   },
   "outputs": [],
   "source": [
    "# parameters\n",
    "size = 13\n",
    "T=200\n",
    "temperature=0.3\n",
    "epochs_train=11 # set small when debugging\n",
    "epochs_test=11 # set small when debugging\n",
    "\n",
    "# display videos\n",
    "def display_videos(name):\n",
    "    video = io.open(name, 'r+b').read()\n",
    "    encoded = base64.b64encode(video)\n",
    "    return '''<video alt=\"test\" controls>\n",
    "                <source src=\"data:video/mp4;base64,{0}\" type=\"video/mp4\" />\n",
    "             </video>'''.format(encoded.decode('ascii'))"
   ]
  },
  {
   "cell_type": "markdown",
   "metadata": {},
   "source": [
    "__Question 2__ Explain the use of the arrays ```position``` and ```board```."
   ]
  },
  {
   "cell_type": "markdown",
   "metadata": {},
   "source": [
    "**the array board corresponds to the board on which the rat can move. It contains information about the content of each position of the board whether there is nothing, whether it contains cheese or poison. When the agent retrieve the reward of a state of the board the value is set to zero. The array position corresponds to the position of the agent at each timestep of the game. It is a binary array with a 1 for the position of the player and a zero for the other position (-1 for the boundaries)**"
   ]
  },
  {
   "cell_type": "markdown",
   "metadata": {},
   "source": [
    "## Random Agent"
   ]
  },
  {
   "cell_type": "markdown",
   "metadata": {},
   "source": [
    "***\n",
    "__Question 3__ Implement a random Agent (only ```learned_act``` needs to be implemented):"
   ]
  },
  {
   "cell_type": "code",
   "execution_count": 7,
   "metadata": {
    "collapsed": true
   },
   "outputs": [],
   "source": [
    "class RandomAgent(Agent):\n",
    "    def __init__(self):\n",
    "        super(RandomAgent, self).__init__()\n",
    "        pass\n",
    "\n",
    "    def learned_act(self, s):\n",
    "        return(np.random.randint(0,4))"
   ]
  },
  {
   "cell_type": "markdown",
   "metadata": {},
   "source": [
    "***\n",
    "***\n",
    "__Question 4__ Visualize the game moves. You need to fill in the following function for the evaluation:"
   ]
  },
  {
   "cell_type": "code",
   "execution_count": 8,
   "metadata": {
    "collapsed": true
   },
   "outputs": [],
   "source": [
    "def test(agent,env,epochs,prefix=''):\n",
    "    # Number of won games\n",
    "    score = 0\n",
    "        \n",
    "    for e in range(epochs):\n",
    "        \n",
    "        state = env.reset()\n",
    "        \n",
    "        game_over = False\n",
    "        win = 0\n",
    "        lose = 0\n",
    "        while not game_over:\n",
    "            action = agent.act(state)\n",
    "            \n",
    "            prev_state = state\n",
    "            \n",
    "            state, reward, game_over = env.act(action)\n",
    "            # Update the counters\n",
    "            if reward > 0:\n",
    "                win = win + reward\n",
    "            if reward < 0:\n",
    "                lose = lose -reward     \n",
    "        \n",
    "        # Save as a mp4\n",
    "        env.draw(prefix+str(e))\n",
    "\n",
    "        # Update stats\n",
    "        score = score + win-lose\n",
    "\n",
    "        print(\"Win/lose count {}/{}. Average score ({})\"\n",
    "              .format(win, lose, score/(1+e)))\n",
    "    print('Final score: '+str(score/epochs))"
   ]
  },
  {
   "cell_type": "code",
   "execution_count": 10,
   "metadata": {},
   "outputs": [
    {
     "name": "stdout",
     "output_type": "stream",
     "text": [
      "Win/lose count 6.5/13.0. Average score (-6.5)\n",
      "Win/lose count 8.0/16.0. Average score (-7.25)\n",
      "Win/lose count 8.5/14.0. Average score (-6.666666666666667)\n",
      "Win/lose count 8.5/12.0. Average score (-5.875)\n",
      "Win/lose count 12.0/12.0. Average score (-4.7)\n",
      "Win/lose count 9.5/19.0. Average score (-5.5)\n",
      "Win/lose count 11.5/13.0. Average score (-4.928571428571429)\n",
      "Win/lose count 13.0/17.0. Average score (-4.8125)\n",
      "Win/lose count 9.5/18.0. Average score (-5.222222222222222)\n",
      "Win/lose count 10.5/13.0. Average score (-4.95)\n",
      "Win/lose count 14.0/9.0. Average score (-4.045454545454546)\n",
      "Final score: -4.045454545454546\n"
     ]
    }
   ],
   "source": [
    "\n",
    "# Initialize the game\n",
    "env = Environment(grid_size=size, max_time=T,temperature=temperature)\n",
    "\n",
    "# Initialize the agent!\n",
    "agent = RandomAgent()\n",
    "\n",
    "test(agent,env,epochs_test,prefix='random')\n"
   ]
  },
  {
   "cell_type": "markdown",
   "metadata": {},
   "source": [
    "***\n",
    "## DQN"
   ]
  },
  {
   "cell_type": "markdown",
   "metadata": {},
   "source": [
    "Let us assume here that $T=\\infty$.\n",
    "\n",
    "***\n",
    "__Question 5__ Let $\\pi$ be a policy, show that:\n",
    "\n",
    "\\begin{equation*}\n",
    "Q^{\\pi}(s,a)=E_{(s',a')\\sim p(.|s,a)}[r(s,a)+\\gamma Q^{\\pi}(s',a')]\n",
    "\\end{equation*}\n",
    "\n",
    "Then, show that for the optimal policy $\\pi^*$ (we assume its existence), the following holds: \n",
    "\n",
    "\\begin{equation*}\n",
    "Q^{*}(s,a)=E_{s'\\sim \\pi^*(.|s,a)}[r(s,a)+\\gamma\\max_{a'}Q^{*}(s',a')].\n",
    "\\end{equation*}\n",
    "Finally, deduce that a plausible objective is:\n",
    "\n",
    "\\begin{equation*}\n",
    "\\mathcal{L}(\\theta)=E_{s' \\sim \\pi^*(.|s,a)}\\Vert r+\\gamma\\max\\max_{a'}Q(s',a',\\theta)-Q(s,a,\\theta)\\Vert^{2}.\n",
    "\\end{equation*}\n",
    "\n",
    "\n"
   ]
  },
  {
   "cell_type": "markdown",
   "metadata": {},
   "source": [
    "** Answers **\n",
    " \n",
    "1/\n",
    "$$\\begin{align}\n",
    "Q^\\pi(s,a) &= E_{p^{\\pi}}[\\sum_{t\\geq 0}\\gamma^{t}r(s_{t},a_{t})|s_{0}=s,a_{0}=a] \\\\\n",
    "& = E_{p^{\\pi}}[r(s,a) + \\sum_{t\\geq 1}\\gamma^{t}r(s_{t},a_{t})|s_{0}=s,a_{0}=a] \\\\\n",
    "& =  r(s,a) + \\sum_{s',a'} P(s_1 = s',a_1 = a' | s_0 = s, a_0 = a)*E_{p^{\\pi}}[\\sum_{t\\geq 1}\\gamma^{t-1}r(s_{t},a_{t})|s_{1}=s',a_{1}=a']\\\\\n",
    "& = r(s,a) + E_{(s',a')\\sim p(.|s,a)}[\\gamma Q^{\\pi}(s',a')]\\\\\n",
    "& = E_{(s',a')\\sim p(.|s,a)}[r(s,a)+\\gamma Q^{\\pi}(s',a')]\n",
    "\\end{align}\n",
    "$$\n",
    "\n",
    "\n",
    "\n",
    "2/\n",
    "\n",
    "\n",
    "$$ \\begin{split} Q^{*}(s,a) & = max_{\\pi} Q(s,a) \\\\ &= max_{\\pi}( r(s,a) + \\gamma \\sum\\limits_{s'}p(s_1 = s' | s_0 = s) Q^{\\pi}(s',\\pi^*(s')\\\\ & = r(s,a) + \\gamma \\sum\\limits_{s'}p(s_1 = s' | s_0 = s) max_{\\pi} Q^{\\pi}(s',\\pi^*(s')\\\\ & = r(s,a) + \\gamma \\sum\\limits_{s'}p(s_1 = s' | s_0 = s) max_{a'} Q^*(s',a')\\\\ & = E_{s'\\sim \\pi^*(.|s,a)}[r(s,a)+\\gamma\\max_{a'}Q^{*}(s',a')]. \\end{split} $$\n",
    "\n",
    "\n",
    "3/\n",
    "\n",
    "We want to have $Q(s,a)$ to match $Q^{*}(s,a)$ so a good loss to minimize would be the difference of both of them.\n",
    "This difference is indeed the loss expressed before : \n",
    "\n",
    "\\begin{equation*}\n",
    "\\mathcal{L}(\\theta)=E_{s' \\sim \\pi^*(.|s,a)}\\Vert r+\\gamma\\max_{a'}Q(s',a',\\theta)-Q(s,a,\\theta)\\Vert^{2}.\n",
    "\\end{equation*}\n",
    "\n",
    "\n"
   ]
  },
  {
   "cell_type": "markdown",
   "metadata": {},
   "source": [
    "***\n",
    "The DQN-learning algorithm relies on these derivations to train the parameters $\\theta$ of a Deep Neural Network:\n",
    "\n",
    "1. At the state $s_t$, select the action $a_t$ with best reward using $Q_t$ and store the results;\n",
    "\n",
    "2. Obtain the new state $s_{t+1}$ from the environment $p$;\n",
    "\n",
    "3. Store $(s_t,a_t,s_{t+1})$;\n",
    "\n",
    "4. Obtain $Q_{t+1}$ by minimizing  $\\mathcal{L}$ from a recovered batch from the previously stored results.\n",
    "\n",
    "***\n",
    "__Question 6__ Implement the class ```Memory``` that stores moves (in a replay buffer) via ```remember``` and provides a ```random_access``` to these. Specify a maximum memory size to avoid side effects. You can for example use a ```list()``` and set by default ```max_memory=100```."
   ]
  },
  {
   "cell_type": "code",
   "execution_count": 9,
   "metadata": {
    "collapsed": true
   },
   "outputs": [],
   "source": [
    "class Memory(object):\n",
    "    def __init__(self, max_memory=100):\n",
    "        self.max_memory = max_memory\n",
    "        self.memory = list()\n",
    "\n",
    "    def remember(self, m):\n",
    "        if (len(self.memory) <=self.max_memory) :\n",
    "            self.memory.append(m)\n",
    "        else :\n",
    "            self.memory.pop(0)\n",
    "            self.memory.append(m)\n",
    "\n",
    "\n",
    "    def random_access(self):\n",
    "        n = len(self.memory)\n",
    "        return(self.memory[np.random.randint(0,n)])"
   ]
  },
  {
   "cell_type": "markdown",
   "metadata": {},
   "source": [
    "***\n",
    "The pipeline we will use for training is given below:"
   ]
  },
  {
   "cell_type": "code",
   "execution_count": 10,
   "metadata": {
    "collapsed": true
   },
   "outputs": [],
   "source": [
    "def train(agent,env,epoch,prefix=''):\n",
    "    # Number of won games\n",
    "    score = 0\n",
    "    loss = 0\n",
    "\n",
    "    for e in range(epoch):\n",
    "        # At each epoch, we restart to a fresh game and get the initial state\n",
    "        state = env.reset()\n",
    "        # This assumes that the games will terminate\n",
    "        game_over = False\n",
    "\n",
    "        win = 0\n",
    "        lose = 0\n",
    "\n",
    "        while not game_over:\n",
    "            # The agent performs an action\n",
    "            action = agent.act(state)\n",
    "\n",
    "            # Apply an action to the environment, get the next state, the reward\n",
    "            # and if the games end\n",
    "            prev_state = state\n",
    "            state, reward, game_over = env.act(action)\n",
    "\n",
    "            # Update the counters\n",
    "            if reward > 0:\n",
    "                win = win + reward\n",
    "            if reward < 0:\n",
    "                lose = lose -reward\n",
    "\n",
    "            # Apply the reinforcement strategy\n",
    "            loss = agent.reinforce(prev_state, state,  action, reward, game_over)\n",
    "\n",
    "        # Save as a mp4\n",
    "        if e % 10 == 0:\n",
    "            env.draw(prefix+str(e))\n",
    "\n",
    "        # Update stats\n",
    "        score += win-lose\n",
    "\n",
    "        print(\"Epoch {:03d}/{:03d} | Loss {:.4f} | Win/lose count {}/{} ({})\"\n",
    "              .format(e, epoch, loss, win, lose, win-lose))\n",
    "        agent.save(name_weights=prefix+'model.h5',name_model=prefix+'model.json')"
   ]
  },
  {
   "cell_type": "markdown",
   "metadata": {},
   "source": [
    "***\n",
    "__Question 7__ Implement the DQN training algorithm using a cascade of fully connected layers. You can use different learning rate, batch size or memory size parameters. In particular, the loss might oscillate while the player will start to win the games. You have to find a good criterium."
   ]
  },
  {
   "cell_type": "markdown",
   "metadata": {},
   "source": [
    "** We implemented the DQN with two hidden layers of fully connected neurones. We didn't change much the learning process.**"
   ]
  },
  {
   "cell_type": "code",
   "execution_count": 11,
   "metadata": {
    "collapsed": true
   },
   "outputs": [],
   "source": [
    "class DQN(Agent):\n",
    "    def __init__(self, grid_size,  epsilon = 0.1, memory_size=100, batch_size = 16,n_state=2):\n",
    "        super(DQN, self).__init__(epsilon = epsilon)\n",
    "\n",
    "        # Discount for Q learning\n",
    "        self.discount = 0.99\n",
    "        \n",
    "        self.grid_size = grid_size\n",
    "        \n",
    "        # number of state\n",
    "        self.n_state = n_state\n",
    "\n",
    "        # Memory\n",
    "        self.memory = Memory(memory_size)\n",
    "        \n",
    "        # Batch size when learning\n",
    "        self.batch_size = batch_size\n",
    "\n",
    "    def learned_act(self, s):\n",
    "        return np.argmax(self.model.predict(s.reshape(1,5,5,self.n_state)))\n",
    "\n",
    "    def reinforce(self, s_, n_s_, a_, r_, game_over_):\n",
    "        # Two steps: first memorize the states, second learn from the pool\n",
    "\n",
    "        self.memory.remember([s_, n_s_, a_, r_, game_over_])\n",
    "        \n",
    "        input_states = np.zeros((self.batch_size, 5,5,self.n_state))\n",
    "        target_q = np.zeros((self.batch_size, 4))\n",
    "        for i in range(self.batch_size):\n",
    "            \n",
    "            s_t, n_s_t, a_t, r_t, game_over_t = self.memory.random_access()\n",
    "            input_states[i] = s_t\n",
    "            target_q[i] = self.model.predict(s_t.reshape(1,5,5,self.n_state))\n",
    "            if game_over_:\n",
    "                target_q[i][a_t] = r_t\n",
    "            else:\n",
    "                target_q[i][a_t] = r_t + self.discount*np.max(self.model.predict(n_s_t.reshape(1,5,5,self.n_state)))\n",
    "        \n",
    "        # HINT: Clip the target to avoid exploiding gradients.. -- clipping is a bit tighter\n",
    "        target_q = np.clip(target_q, -3, 3)\n",
    "\n",
    "        l = self.model.train_on_batch(input_states, target_q)\n",
    "\n",
    "\n",
    "        return l\n",
    "\n",
    "    def save(self,name_weights='model.h5',name_model='model.json'):\n",
    "        self.model.save_weights(name_weights, overwrite=True)\n",
    "        with open(name_model, \"w\") as outfile:\n",
    "            json.dump(self.model.to_json(), outfile)\n",
    "            \n",
    "    def load(self,name_weights='model.h5',name_model='model.json'):\n",
    "        with open(name_model, \"r\") as jfile:\n",
    "            model = model_from_json(json.load(jfile))\n",
    "        model.load_weights(name_weights)\n",
    "        model.compile(\"sgd\", \"mse\")\n",
    "        self.model = model\n",
    "\n",
    "            \n",
    "class DQN_FC(DQN):\n",
    "    def __init__(self, *args, lr=0.1,**kwargs):\n",
    "        super(DQN_FC, self).__init__( *args,**kwargs)\n",
    "        \n",
    "        # NN Model\n",
    "        model = Sequential([Flatten(input_shape=(5,5,2)), Dense(32,activation = 'relu'),Dense(32,activation = 'relu'),Dense(4)])\n",
    "        model.compile(sgd(lr=lr, decay=1e-4, momentum=0.0), \"mse\")\n",
    "        self.model = model\n",
    "        "
   ]
  },
  {
   "cell_type": "code",
   "execution_count": 14,
   "metadata": {},
   "outputs": [
    {
     "name": "stdout",
     "output_type": "stream",
     "text": [
      "Epoch 000/011 | Loss 1.8086 | Win/lose count 5.5/5.0 (0.5)\n",
      "Epoch 001/011 | Loss 2.0959 | Win/lose count 5.5/8.0 (-2.5)\n",
      "Epoch 002/011 | Loss 1.9490 | Win/lose count 8.0/4.0 (4.0)\n",
      "Epoch 003/011 | Loss 1.8390 | Win/lose count 3.0/5.0 (-2.0)\n",
      "Epoch 004/011 | Loss 1.7774 | Win/lose count 0/4.0 (-4.0)\n",
      "Epoch 005/011 | Loss 1.9733 | Win/lose count 6.0/4.0 (2.0)\n",
      "Epoch 006/011 | Loss 1.8805 | Win/lose count 3.5/2.0 (1.5)\n",
      "Epoch 007/011 | Loss 1.8824 | Win/lose count 2.5/5.0 (-2.5)\n",
      "Epoch 008/011 | Loss 1.7876 | Win/lose count 3.5/4.0 (-0.5)\n",
      "Epoch 009/011 | Loss 1.8090 | Win/lose count 3.0/4.0 (-1.0)\n",
      "Epoch 010/011 | Loss 1.7119 | Win/lose count 4.5/9.0 (-4.5)\n"
     ]
    },
    {
     "data": {
      "text/html": [
       "<video alt=\"test\" controls>\n",
       "                <source src=\"data:video/mp4;base64,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\" type=\"video/mp4\" />\n",
       "             </video>"
      ],
      "text/plain": [
       "<IPython.core.display.HTML object>"
      ]
     },
     "execution_count": 14,
     "metadata": {},
     "output_type": "execute_result"
    }
   ],
   "source": [
    "env = Environment(grid_size=size, max_time=T, temperature=0.3)\n",
    "agent = DQN_FC(size, lr=.1, epsilon = 0.2, memory_size=2000, batch_size = 32)\n",
    "train(agent, env, epochs_train, prefix='fc_train')\n"
   ]
  },
  {
   "cell_type": "code",
   "execution_count": 21,
   "metadata": {},
   "outputs": [
    {
     "data": {
      "text/html": [
       "<video alt=\"test\" controls>\n",
       "                <source src=\"data:video/mp4;base64,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\" type=\"video/mp4\" />\n",
       "             </video>"
      ],
      "text/plain": [
       "<IPython.core.display.HTML object>"
      ]
     },
     "execution_count": 21,
     "metadata": {},
     "output_type": "execute_result"
    }
   ],
   "source": [
    "HTML(display_videos('fc_train/fc_train10.mp4'))"
   ]
  },
  {
   "cell_type": "markdown",
   "metadata": {},
   "source": [
    "***\n",
    "***\n",
    "__Question 8__ Implement the DQN training algorithm using a CNN (for example, 2 convolutional layers and one final fully connected layer)."
   ]
  },
  {
   "cell_type": "markdown",
   "metadata": {},
   "source": [
    "** We modified the architecture of the DQN FC to a convolutionnal network with two layers of 32  filters of size 3x3 and another of 64 filters of size 3x3.  **"
   ]
  },
  {
   "cell_type": "code",
   "execution_count": 12,
   "metadata": {
    "collapsed": true
   },
   "outputs": [],
   "source": [
    "class DQN_CNN(DQN):\n",
    "    def __init__(self, *args,lr=0.1,**kwargs):\n",
    "        super(DQN_CNN, self).__init__(*args,**kwargs)\n",
    "        \n",
    "        model = Sequential([Conv2D(32,(3,3), activation = 'relu'),Conv2D(64,(3,3), activation = 'relu'),Flatten(),Dense(4) ])\n",
    "        \n",
    "        model.compile(sgd(lr=lr, decay=1e-4, momentum=0.0), \"mse\")\n",
    "        self.model = model"
   ]
  },
  {
   "cell_type": "code",
   "execution_count": 17,
   "metadata": {},
   "outputs": [
    {
     "name": "stdout",
     "output_type": "stream",
     "text": [
      "Epoch 000/011 | Loss 1.0666 | Win/lose count 4.0/4.0 (0.0)\n",
      "Epoch 001/011 | Loss 1.0709 | Win/lose count 2.5/8.0 (-5.5)\n",
      "Epoch 002/011 | Loss 1.6869 | Win/lose count 1.5/3.0 (-1.5)\n",
      "Epoch 003/011 | Loss 1.7010 | Win/lose count 5.0/4.0 (1.0)\n",
      "Epoch 004/011 | Loss 1.8596 | Win/lose count 5.5/7.0 (-1.5)\n",
      "Epoch 005/011 | Loss 1.8192 | Win/lose count 4.5/5.0 (-0.5)\n",
      "Epoch 006/011 | Loss 1.7170 | Win/lose count 3.5/6.0 (-2.5)\n",
      "Epoch 007/011 | Loss 1.7667 | Win/lose count 5.5/6.0 (-0.5)\n",
      "Epoch 008/011 | Loss 1.6629 | Win/lose count 9.0/6.0 (3.0)\n",
      "Epoch 009/011 | Loss 1.7703 | Win/lose count 9.5/1.0 (8.5)\n",
      "Epoch 010/011 | Loss 1.8562 | Win/lose count 8.0/6.0 (2.0)\n"
     ]
    },
    {
     "data": {
      "text/html": [
       "<video alt=\"test\" controls>\n",
       "                <source src=\"data:video/mp4;base64,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\" type=\"video/mp4\" />\n",
       "             </video>"
      ],
      "text/plain": [
       "<IPython.core.display.HTML object>"
      ]
     },
     "execution_count": 17,
     "metadata": {},
     "output_type": "execute_result"
    }
   ],
   "source": [
    "env = Environment(grid_size=size, max_time=T, temperature=0.3)\n",
    "agent = DQN_CNN(size, lr=.1, epsilon = 0.2, memory_size=2000, batch_size = 32)\n",
    "train(agent,env,epochs_train,prefix='cnn_train')\n"
   ]
  },
  {
   "cell_type": "code",
   "execution_count": 20,
   "metadata": {},
   "outputs": [
    {
     "data": {
      "text/html": [
       "<video alt=\"test\" controls>\n",
       "                <source src=\"data:video/mp4;base64,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\" type=\"video/mp4\" />\n",
       "             </video>"
      ],
      "text/plain": [
       "<IPython.core.display.HTML object>"
      ]
     },
     "execution_count": 20,
     "metadata": {},
     "output_type": "execute_result"
    }
   ],
   "source": [
    "HTML(display_videos('cnn_train/cnn_train10.mp4'))"
   ]
  },
  {
   "cell_type": "markdown",
   "metadata": {},
   "source": [
    "***\n",
    "***\n",
    "__Question 9__ Test both algorithms and compare their performances. Which issue(s) do you observe? Observe also different behaviors by changing the temperature."
   ]
  },
  {
   "cell_type": "markdown",
   "metadata": {},
   "source": [
    "** We observe that even if the DQN_CNN is much better than DQN_FC, both of them lack in exploration. We see in the videos that can be found in the respective directories, that the player can get stuck between two positions. When we increase the temperature, both scores increase but there is a larger slope for the DQN_CNN.  **"
   ]
  },
  {
   "cell_type": "code",
   "execution_count": 18,
   "metadata": {},
   "outputs": [
    {
     "name": "stdout",
     "output_type": "stream",
     "text": [
      "Test of the CNN\n",
      "Win/lose count 2.0/1.0. Average score (1.0)\n",
      "Win/lose count 3.0/1.0. Average score (1.5)\n",
      "Win/lose count 3.5/2.0. Average score (1.5)\n",
      "Win/lose count 7.5/10.0. Average score (0.5)\n",
      "Win/lose count 5.5/3.0. Average score (0.9)\n",
      "Win/lose count 3.0/3.0. Average score (0.75)\n",
      "Win/lose count 3.5/1.0. Average score (1.0)\n",
      "Win/lose count 3.0/7.0. Average score (0.375)\n",
      "Win/lose count 5.5/4.0. Average score (0.5)\n",
      "Win/lose count 4.5/4.0. Average score (0.5)\n",
      "Win/lose count 2.5/2.0. Average score (0.5)\n",
      "Final score: 0.5\n",
      "Test of the FC\n",
      "Win/lose count 0.5/3.0. Average score (-2.5)\n",
      "Win/lose count 2.0/8.0. Average score (-4.25)\n",
      "Win/lose count 3.0/5.0. Average score (-3.5)\n",
      "Win/lose count 4.0/9.0. Average score (-3.875)\n",
      "Win/lose count 4.0/5.0. Average score (-3.3)\n",
      "Win/lose count 2.5/1.0. Average score (-2.5)\n",
      "Win/lose count 5.5/4.0. Average score (-1.9285714285714286)\n",
      "Win/lose count 8.5/8.0. Average score (-1.625)\n",
      "Win/lose count 6.0/3.0. Average score (-1.1111111111111112)\n",
      "Win/lose count 3.0/9.0. Average score (-1.6)\n",
      "Win/lose count 1.0/6.0. Average score (-1.9090909090909092)\n",
      "Final score: -1.9090909090909092\n"
     ]
    }
   ],
   "source": [
    "env = Environment(grid_size=size, max_time=T,temperature=0.3)\n",
    "agent_cnn = DQN_CNN(size, lr=.1, epsilon = 0.1, memory_size=2000, batch_size = 32)\n",
    "agent_cnn.load(name_weights='cnn_trainmodel.h5',name_model='cnn_trainmodel.json')\n",
    "\n",
    "agent_fc = DQN_FC(size, lr=.1, epsilon = 0.1, memory_size=2000, batch_size = 32)\n",
    "agent_cnn.load(name_weights='fc_trainmodel.h5',name_model='fc_trainmodel.json')\n",
    "print('Test of the CNN')\n",
    "test(agent_cnn,env,epochs_test,prefix='cnn_test')\n",
    "print('Test of the FC')\n",
    "test(agent_fc,env,epochs_test,prefix='fc_test')"
   ]
  },
  {
   "cell_type": "code",
   "execution_count": 19,
   "metadata": {},
   "outputs": [
    {
     "data": {
      "text/html": [
       "<video alt=\"test\" controls>\n",
       "                <source src=\"data:video/mp4;base64,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\" type=\"video/mp4\" />\n",
       "             </video>"
      ],
      "text/plain": [
       "<IPython.core.display.HTML object>"
      ]
     },
     "execution_count": 19,
     "metadata": {},
     "output_type": "execute_result"
    }
   ],
   "source": [
    "HTML(display_videos('cnn_test/cnn_test10.mp4'))"
   ]
  },
  {
   "cell_type": "code",
   "execution_count": 18,
   "metadata": {},
   "outputs": [
    {
     "data": {
      "text/html": [
       "<video alt=\"test\" controls>\n",
       "                <source src=\"data:video/mp4;base64,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\" type=\"video/mp4\" />\n",
       "             </video>"
      ],
      "text/plain": [
       "<IPython.core.display.HTML object>"
      ]
     },
     "execution_count": 18,
     "metadata": {},
     "output_type": "execute_result"
    }
   ],
   "source": [
    "HTML(display_videos('fc_test/fc_test10.mp4'))"
   ]
  },
  {
   "cell_type": "markdown",
   "metadata": {},
   "source": []
  },
  {
   "cell_type": "markdown",
   "metadata": {},
   "source": [
    "***\n",
    "\n",
    "The algorithm tends to not explore the map which can be an issue. We propose two ideas in order to encourage exploration:\n",
    "1. Incorporating a decreasing $\\epsilon$-greedy exploration. You can use the method ```set_epsilon```\n",
    "2. Append via the environment a new state that describes if a cell has been visited or not\n",
    "\n",
    "***\n",
    "__Question 10__ Design a new ```train_explore``` function and environment class ```EnvironmentExploring``` to tackle the issue of exploration.\n",
    "\n"
   ]
  },
  {
   "cell_type": "markdown",
   "metadata": {},
   "source": [
    "**We implemented a decay on the epsilon. This way we favor the exploration in the first steps of the learning so that the player can explore. Then the exploration rate decreases with the epsilon, to increase the exploitation. Also we added a malus_position map which penalises the fact of coming back on an already visited position during the training in order to force exploration.\n",
    "This method resulted in a much higher score at test time, than the previous methods  with scores around 12. Also we see that the player almost never gets stuck, and almost never chooses blue squares.**"
   ]
  },
  {
   "cell_type": "code",
   "execution_count": 13,
   "metadata": {
    "collapsed": true
   },
   "outputs": [],
   "source": [
    "def train_explore(agent,env,epoch,epsilon,prefix=''):\n",
    "    # Number of won games\n",
    "    score = 0\n",
    "    loss = 0\n",
    "\n",
    "    for e in range(epoch):\n",
    "        # At each epoch, we restart to a fresh game and get the initial state\n",
    "        state = env.reset()\n",
    "        # This assumes that the games will terminate\n",
    "        game_over = False\n",
    "        agent.set_epsilon(epsilon**(e+1))\n",
    "\n",
    "        win = 0\n",
    "        lose = 0\n",
    "\n",
    "        while not game_over:\n",
    "            # The agent performs an action\n",
    "            action = agent.act(state)\n",
    "\n",
    "            # Apply an action to the environment, get the next state, the reward\n",
    "            # and if the games end\n",
    "            prev_state = state\n",
    "            state, reward, game_over = env.act(action, train=True)\n",
    "            \n",
    "            # Update the counters\n",
    "            if reward > 0:\n",
    "                win = win + reward\n",
    "            if reward < 0:\n",
    "                lose = lose - reward\n",
    "\n",
    "            # Apply the reinforcement strategy\n",
    "            loss = agent.reinforce(prev_state, state,  action, reward, game_over)\n",
    "\n",
    "        # Save as a mp4\n",
    "        if e % 10 == 0:\n",
    "            env.draw(prefix+str(e))\n",
    "\n",
    "        # Update stats\n",
    "        score += win-lose\n",
    "\n",
    "        print(\"Epoch {:03d}/{:03d} | Loss {:.4f} | Win/lose count {}/{} ({})\"\n",
    "              .format(e, epoch, loss, win, lose, win-lose))\n",
    "        agent.save(name_weights=prefix+'model.h5',name_model=prefix+'model.json')\n",
    "        print(agent.epsilon)\n",
    "        \n",
    "class EnvironmentExploring(object):\n",
    "    def __init__(self, grid_size=10, max_time=500, temperature=0.1):\n",
    "        grid_size = grid_size+4\n",
    "        self.grid_size = grid_size\n",
    "        self.max_time = max_time\n",
    "        self.temperature = temperature\n",
    "\n",
    "        #board on which one plays\n",
    "        self.board = np.zeros((grid_size,grid_size))\n",
    "        self.position = np.zeros((grid_size,grid_size))\n",
    "        self.malus_position = np.zeros((grid_size,grid_size))\n",
    "        # coordinate of the cat\n",
    "        self.x = 0\n",
    "        self.y = 1\n",
    "\n",
    "        # self time\n",
    "        self.t = 0\n",
    "\n",
    "        self.scale=16\n",
    "\n",
    "        self.to_draw = np.zeros((max_time+2, grid_size*self.scale, grid_size*self.scale, 3))\n",
    "\n",
    "\n",
    "    def draw(self,e):\n",
    "        skvideo.io.vwrite(str(e) + '.mp4', self.to_draw)\n",
    "\n",
    "    def get_frame(self,t):\n",
    "        b = np.zeros((self.grid_size,self.grid_size,3))+128\n",
    "        b[self.board>0,0] = 256\n",
    "        b[self.board < 0, 2] = 256\n",
    "        b[self.x,self.y,:]=256\n",
    "        b[-2:,:,:]=0\n",
    "        b[:,-2:,:]=0\n",
    "        b[:2,:,:]=0\n",
    "        b[:,:2,:]=0\n",
    "        \n",
    "        b =  cv2.resize(b, None, fx=self.scale, fy=self.scale, interpolation=cv2.INTER_NEAREST)\n",
    "\n",
    "        self.to_draw[t,:,:,:]=b\n",
    "\n",
    "\n",
    "    def act(self, action, train):\n",
    "        \"\"\"This function returns the new state, reward and decides if the\n",
    "        game ends.\"\"\"\n",
    "\n",
    "        self.get_frame(int(self.t))\n",
    "\n",
    "        self.position = np.zeros((self.grid_size, self.grid_size))\n",
    "\n",
    "        self.position[0:2,:]= -1\n",
    "        self.position[:,0:2] = -1\n",
    "        self.position[-2:, :] = -1\n",
    "        self.position[-2:, :] = -1\n",
    "\n",
    "        self.position[self.x, self.y] = 1\n",
    "        if action == 0:\n",
    "            if self.x == self.grid_size-3:\n",
    "                self.x = self.x-1\n",
    "            else:\n",
    "                self.x = self.x + 1\n",
    "        elif action == 1:\n",
    "            if self.x == 2:\n",
    "                self.x = self.x+1\n",
    "            else:\n",
    "                self.x = self.x-1\n",
    "        elif action == 2:\n",
    "            if self.y == self.grid_size - 3:\n",
    "                self.y = self.y - 1\n",
    "            else:\n",
    "                self.y = self.y + 1\n",
    "        elif action == 3:\n",
    "            if self.y == 2:\n",
    "                self.y = self.y + 1\n",
    "            else:\n",
    "                self.y = self.y - 1\n",
    "        else:\n",
    "            RuntimeError('Error: action not recognized')\n",
    "\n",
    "        self.t = self.t + 1\n",
    "        \n",
    "        game_over = self.t > self.max_time\n",
    "        reward =  self.board[self.x, self.y]\n",
    "        self.board[self.x, self.y] = 0\n",
    "        if train:\n",
    "            reward += -self.malus_position[self.x, self.y]\n",
    "        self.malus_position[self.x, self.y] += 0.2\n",
    "        \n",
    "        \n",
    "        # 3 \"feature\" states instead of 2\n",
    "        state = np.concatenate((self.malus_position.reshape(self.grid_size, self.grid_size,1),\n",
    "                                self.board.reshape(self.grid_size, self.grid_size,1),\n",
    "                                self.position.reshape(self.grid_size, self.grid_size,1)),axis=2)\n",
    "        \n",
    "        state = state[self.x-2:self.x+3,self.y-2:self.y+3,:]\n",
    "\n",
    "\n",
    "        \n",
    "        return state, reward, game_over\n",
    "\n",
    "    def reset(self):\n",
    "        \"\"\"This function resets the game and returns the initial state\"\"\"\n",
    "\n",
    "        self.x = np.random.randint(3, self.grid_size-3, size=1)[0]\n",
    "        self.y = np.random.randint(3, self.grid_size-3, size=1)[0]\n",
    "\n",
    "\n",
    "        bonus = 0.5*np.random.binomial(1,self.temperature,size=self.grid_size**2)\n",
    "        bonus = bonus.reshape(self.grid_size,self.grid_size)\n",
    "\n",
    "        malus = -1.0*np.random.binomial(1,self.temperature,size=self.grid_size**2)\n",
    "        malus = malus.reshape(self.grid_size, self.grid_size)\n",
    "\n",
    "        self.to_draw = np.zeros((self.max_time+2, self.grid_size*self.scale, self.grid_size*self.scale, 3))\n",
    "        \n",
    "\n",
    "        malus[bonus>0]=0\n",
    "\n",
    "        self.board = bonus + malus\n",
    "\n",
    "        self.position = np.zeros((self.grid_size, self.grid_size))\n",
    "        self.position[0:2,:]= -1\n",
    "        self.position[:,0:2] = -1\n",
    "        self.position[-2:, :] = -1\n",
    "        self.position[-2:, :] = -1\n",
    "        self.board[self.x,self.y] = 0\n",
    "        self.t = 0\n",
    "        self.malus_position = np.zeros((self.grid_size,self.grid_size))\n",
    "        state = np.concatenate((self.malus_position.reshape(self.grid_size, self.grid_size,1),\n",
    "                                self.board.reshape(self.grid_size, self.grid_size,1),\n",
    "                                self.position.reshape(self.grid_size, self.grid_size,1)),axis=2)\n",
    "\n",
    "        state = state[self.x - 2:self.x + 3, self.y - 2:self.y + 3, :]\n",
    "        return state\n",
    "\n",
    "    \n",
    "    \n",
    "    \n",
    "    \n",
    "    \n",
    "    \n",
    "    \n"
   ]
  },
  {
   "cell_type": "code",
   "execution_count": 40,
   "metadata": {},
   "outputs": [
    {
     "name": "stdout",
     "output_type": "stream",
     "text": [
      "Epoch 000/031 | Loss 0.0689 | Win/lose count 11.0/84.80000000000001 (-73.80000000000001)\n",
      "0.9\n",
      "Epoch 001/031 | Loss 0.0426 | Win/lose count 15.5/61.800000000000054 (-46.300000000000054)\n",
      "0.81\n",
      "Epoch 002/031 | Loss 1.4954 | Win/lose count 13.0/61.000000000000036 (-48.000000000000036)\n",
      "0.7290000000000001\n",
      "Epoch 003/031 | Loss 1.4126 | Win/lose count 21.0/43.00000000000002 (-22.00000000000002)\n",
      "0.6561\n",
      "Epoch 004/031 | Loss 1.3461 | Win/lose count 15.5/48.399999999999984 (-32.899999999999984)\n",
      "0.5904900000000001\n",
      "Epoch 005/031 | Loss 1.5767 | Win/lose count 24.0/44.59999999999999 (-20.599999999999987)\n",
      "0.531441\n",
      "Epoch 006/031 | Loss 1.3669 | Win/lose count 16.0/43.0 (-27.0)\n",
      "0.4782969000000001\n",
      "Epoch 007/031 | Loss 1.5717 | Win/lose count 26.0/34.79999999999998 (-8.799999999999983)\n",
      "0.4304672100000001\n",
      "Epoch 008/031 | Loss 1.6415 | Win/lose count 20.5/44.60000000000003 (-24.10000000000003)\n",
      "0.3874204890000001\n",
      "Epoch 009/031 | Loss 1.5489 | Win/lose count 24.0/29.39999999999996 (-5.3999999999999595)\n",
      "0.3486784401000001\n",
      "Epoch 010/031 | Loss 1.3482 | Win/lose count 17.0/46.999999999999964 (-29.999999999999964)\n",
      "0.31381059609000006\n",
      "Epoch 011/031 | Loss 1.3955 | Win/lose count 17.0/38.20000000000001 (-21.20000000000001)\n",
      "0.2824295364810001\n",
      "Epoch 012/031 | Loss 1.1344 | Win/lose count 22.5/40.79999999999999 (-18.29999999999999)\n",
      "0.2541865828329001\n",
      "Epoch 013/031 | Loss 1.2361 | Win/lose count 23.5/29.999999999999964 (-6.4999999999999645)\n",
      "0.2287679245496101\n",
      "Epoch 014/031 | Loss 0.8289 | Win/lose count 16.5/49.59999999999998 (-33.09999999999998)\n",
      "0.20589113209464907\n",
      "Epoch 015/031 | Loss 1.1415 | Win/lose count 19.5/30.999999999999957 (-11.499999999999957)\n",
      "0.18530201888518416\n",
      "Epoch 016/031 | Loss 1.3676 | Win/lose count 21.5/27.999999999999968 (-6.499999999999968)\n",
      "0.16677181699666577\n",
      "Epoch 017/031 | Loss 0.8332 | Win/lose count 28.0/37.599999999999966 (-9.599999999999966)\n",
      "0.15009463529699918\n",
      "Epoch 018/031 | Loss 0.8210 | Win/lose count 20.0/26.199999999999964 (-6.199999999999964)\n",
      "0.13508517176729928\n",
      "Epoch 019/031 | Loss 0.8947 | Win/lose count 32.0/29.59999999999997 (2.4000000000000306)\n",
      "0.12157665459056935\n",
      "Epoch 020/031 | Loss 0.9055 | Win/lose count 21.0/29.999999999999957 (-8.999999999999957)\n",
      "0.10941898913151242\n",
      "Epoch 021/031 | Loss 1.0780 | Win/lose count 25.0/36.599999999999966 (-11.599999999999966)\n",
      "0.09847709021836118\n",
      "Epoch 022/031 | Loss 0.9687 | Win/lose count 22.5/34.999999999999986 (-12.499999999999986)\n",
      "0.08862938119652507\n",
      "Epoch 023/031 | Loss 0.9095 | Win/lose count 18.5/32.99999999999999 (-14.499999999999993)\n",
      "0.07976644307687256\n",
      "Epoch 024/031 | Loss 0.7462 | Win/lose count 23.0/28.999999999999968 (-5.999999999999968)\n",
      "0.0717897987691853\n",
      "Epoch 025/031 | Loss 0.7039 | Win/lose count 23.5/23.599999999999966 (-0.0999999999999659)\n",
      "0.06461081889226677\n",
      "Epoch 026/031 | Loss 0.6053 | Win/lose count 21.5/27.599999999999962 (-6.099999999999962)\n",
      "0.058149737003040096\n",
      "Epoch 027/031 | Loss 0.4795 | Win/lose count 25.5/24.599999999999973 (0.900000000000027)\n",
      "0.05233476330273609\n",
      "Epoch 028/031 | Loss 0.7783 | Win/lose count 22.5/27.19999999999996 (-4.69999999999996)\n",
      "0.047101286972462485\n",
      "Epoch 029/031 | Loss 0.6625 | Win/lose count 22.5/32.599999999999966 (-10.099999999999966)\n",
      "0.04239115827521624\n",
      "Epoch 030/031 | Loss 0.5817 | Win/lose count 27.5/29.999999999999968 (-2.499999999999968)\n",
      "0.038152042447694615\n"
     ]
    }
   ],
   "source": [
    "# Training\n",
    "env = EnvironmentExploring(grid_size=size, max_time=T, temperature=0.3)\n",
    "agent = DQN_CNN(size, lr=.1, epsilon = 0.9, memory_size=2000, batch_size = 32,n_state=3)\n",
    "train_explore(agent, env, 31,0.9, prefix='cnn_train_explore')\n",
    "#(display_videos('cnn_train_explore20.mp4'))"
   ]
  },
  {
   "cell_type": "code",
   "execution_count": 46,
   "metadata": {},
   "outputs": [
    {
     "name": "stdout",
     "output_type": "stream",
     "text": [
      "Win/lose count 18.5/5.0. Average score (13.5)\n",
      "Win/lose count 29.0/12.0. Average score (15.25)\n",
      "Win/lose count 21.0/16.0. Average score (11.833333333333334)\n",
      "Win/lose count 20.5/10.0. Average score (11.5)\n",
      "Win/lose count 24.0/7.0. Average score (12.6)\n",
      "Win/lose count 19.5/9.0. Average score (12.25)\n",
      "Win/lose count 22.0/10.0. Average score (12.214285714285714)\n",
      "Win/lose count 24.5/14.0. Average score (12.0)\n",
      "Win/lose count 15.0/13.0. Average score (10.88888888888889)\n",
      "Win/lose count 20.0/10.0. Average score (10.8)\n",
      "Win/lose count 22.0/11.0. Average score (10.818181818181818)\n",
      "Final score: 10.818181818181818\n"
     ]
    },
    {
     "data": {
      "text/html": [
       "<video alt=\"test\" controls>\n",
       "                <source src=\"data:video/mp4;base64,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\" type=\"video/mp4\" />\n",
       "             </video>"
      ],
      "text/plain": [
       "<IPython.core.display.HTML object>"
      ]
     },
     "execution_count": 46,
     "metadata": {},
     "output_type": "execute_result"
    }
   ],
   "source": [
    "def test(agent,env,epochs,prefix=''):\n",
    "    # Number of won games\n",
    "    score = 0\n",
    "        \n",
    "    for e in range(epochs):\n",
    "        \n",
    "        state = env.reset()\n",
    "       \n",
    "        game_over = False\n",
    "        win = 0\n",
    "        lose = 0\n",
    "        while not game_over:\n",
    "            action = agent.act(state)\n",
    "            \n",
    "            prev_state = state\n",
    "            \n",
    "            state, reward, game_over = env.act(action,train = False)\n",
    "            # Update the counters\n",
    "            if reward > 0:\n",
    "                win = win + reward\n",
    "            if reward < 0:\n",
    "                lose = lose -reward     \n",
    "        \n",
    "        # Save as a mp4\n",
    "        env.draw(prefix+str(e))\n",
    "\n",
    "        # Update stats\n",
    "        score = score + win-lose\n",
    "\n",
    "        print(\"Win/lose count {}/{}. Average score ({})\"\n",
    "              .format(win, lose, score/(1+e)))\n",
    "    print('Final score: '+str(score/epochs))\n",
    "# Evaluation\n",
    "test(agent,env,epochs_test,prefix='cnn_test_explore')\n"
   ]
  },
  {
   "cell_type": "code",
   "execution_count": 17,
   "metadata": {},
   "outputs": [
    {
     "data": {
      "text/html": [
       "<video alt=\"test\" controls>\n",
       "                <source src=\"data:video/mp4;base64,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\" type=\"video/mp4\" />\n",
       "             </video>"
      ],
      "text/plain": [
       "<IPython.core.display.HTML object>"
      ]
     },
     "execution_count": 17,
     "metadata": {},
     "output_type": "execute_result"
    }
   ],
   "source": [
    "HTML(display_videos('cnn_test_explore/cnn_test_explore10.mp4'))"
   ]
  },
  {
   "cell_type": "markdown",
   "metadata": {},
   "source": [
    "***\n",
    "***\n",
    "__BONUS question__ Use the expert DQN from the previous question to generate some winning games. Train a model that mimicks its behavior. Compare the performances."
   ]
  },
  {
   "cell_type": "markdown",
   "metadata": {},
   "source": []
  },
  {
   "cell_type": "markdown",
   "metadata": {},
   "source": [
    "***"
   ]
  }
 ],
 "metadata": {
  "kernelspec": {
   "display_name": "Python 3",
   "language": "python",
   "name": "python3"
  },
  "language_info": {
   "codemirror_mode": {
    "name": "ipython",
    "version": 3
   },
   "file_extension": ".py",
   "mimetype": "text/x-python",
   "name": "python",
   "nbconvert_exporter": "python",
   "pygments_lexer": "ipython3",
   "version": "3.6.8"
  }
 },
 "nbformat": 4,
 "nbformat_minor": 2
}
