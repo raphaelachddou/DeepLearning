{
 "cells": [
  {
   "cell_type": "markdown",
   "metadata": {},
   "source": [
    "# Deep Learning for NLP - Project"
   ]
  },
  {
   "cell_type": "markdown",
   "metadata": {},
   "source": [
    "RULES:\n",
    "\n",
    "* Do not create any additional cell\n",
    "\n",
    "* Fill in the blanks\n",
    "\n",
    "* All cells should be runnable (modulo trivial compatibility bugs that we'd fix)\n",
    "\n",
    "* 4 / 20 points will be allocated to the clarity of your code\n",
    "\n",
    "* Efficient code will have a bonus\n",
    "\n",
    "DELIVERABLE:\n",
    "\n",
    "* this notebook\n",
    "* the predictions of the SST test set\n",
    "\n",
    "DO NOT INCLUDE THE DATASETS IN THE DELIVERABLE.."
   ]
  },
  {
   "cell_type": "code",
   "execution_count": 1,
   "metadata": {
    "collapsed": true
   },
   "outputs": [],
   "source": [
    "import io\n",
    "import os\n",
    "import numpy as np\n",
    "import scipy"
   ]
  },
  {
   "cell_type": "code",
   "execution_count": 2,
   "metadata": {
    "collapsed": true
   },
   "outputs": [],
   "source": [
    "PATH_TO_DATA = \"data/\""
   ]
  },
  {
   "cell_type": "markdown",
   "metadata": {},
   "source": [
    "# 1) Monolingual (English) word embeddings "
   ]
  },
  {
   "cell_type": "code",
   "execution_count": 3,
   "metadata": {
    "collapsed": true
   },
   "outputs": [],
   "source": [
    "class Word2vec():\n",
    "    def __init__(self, fname, nmax=100000):\n",
    "        self.load_wordvec(fname, nmax)\n",
    "        self.word2id = dict.fromkeys(self.word2vec.keys())\n",
    "        self.id2word = {v: k for k,v in self.word2id.items()}\n",
    "        self.embeddings = np.array(self.word2vec.values())\n",
    "        self.words = list(self.word2vec.keys())\n",
    "    def load_wordvec(self, fname, nmax):\n",
    "        self.word2vec = {}\n",
    "        with io.open(fname, encoding='utf-8') as f:\n",
    "            next(f)\n",
    "            for i, line in enumerate(f):\n",
    "                word, vec = line.split(' ', 1)\n",
    "                self.word2vec[word] = np.fromstring(vec, sep=' ')\n",
    "                if i == (nmax - 1):\n",
    "                    break\n",
    "        print('Loaded %s pretrained word vectors' % (len(self.word2vec)))\n",
    "\n",
    "    def most_similar(self, w, K=5):\n",
    "        # K most similar words: self.score  -  np.argsort \n",
    "        scores = np.array([])\n",
    "\n",
    "        for wi in self.words:\n",
    "            scores = np.append(scores,[self.score(wi,w)])\n",
    "        scores_ind = np.argsort(scores)\n",
    "        \n",
    "        return ([self.words[i] for i in scores_ind[-K-1:-1]])\n",
    "\n",
    "    def score(self, w1, w2):\n",
    "        w1_em = self.word2vec[w1]\n",
    "        w2_em = self.word2vec[w2]\n",
    "        # cosine similarity: np.dot  -  np.linalg.norm\n",
    "        \n",
    "        return ((w1_em.dot(w2_em))/(np.linalg.norm(w1_em)*np.linalg.norm(w2_em)))\n"
   ]
  },
  {
   "cell_type": "code",
   "execution_count": 4,
   "metadata": {},
   "outputs": [
    {
     "name": "stdout",
     "output_type": "stream",
     "text": [
      "Loaded 200000 pretrained word vectors\n",
      "cat dog 0.6716836662792491\n",
      "dog pet 0.6842064029669219\n",
      "dogs cats 0.7074389328052404\n",
      "paris france 0.7775108541288561\n",
      "germany berlin 0.7420295235998392\n",
      "['kitties', 'feline', 'kitten', 'kitty', 'cats']\n",
      "['canine', 'doggie', 'Dog', 'puppy', 'dogs']\n",
      "['canines', 'doggies', 'Dogs', 'pooches', 'dog']\n",
      "['berlin', 'london', 'parisian', 'Paris', 'france']\n",
      "['poland', 'berlin', 'german', 'europe', 'austria']\n"
     ]
    }
   ],
   "source": [
    "w2v = Word2vec('data/crawl-300d-200k.vec', nmax=200000)\n",
    "\n",
    "# You will be evaluated on the output of the following:\n",
    "for w1, w2 in zip(('cat', 'dog', 'dogs', 'paris', 'germany'), ('dog', 'pet', 'cats', 'france', 'berlin')):\n",
    "    print(w1, w2, w2v.score(w1, w2))\n",
    "for w1 in ['cat', 'dog', 'dogs', 'paris', 'germany']:\n",
    "    print(w2v.most_similar(w1))"
   ]
  },
  {
   "cell_type": "code",
   "execution_count": 5,
   "metadata": {
    "collapsed": true
   },
   "outputs": [],
   "source": [
    "class BoV():\n",
    "    def __init__(self, w2v):\n",
    "        self.w2v = w2v\n",
    "    \n",
    "    def encode(self, sentences, idf=False):\n",
    "        # takes a list of sentences, outputs a numpy array of sentence embeddings\n",
    "        # see TP1 for help\n",
    "        sentemb = []\n",
    "        for sent in sentences:\n",
    "    \n",
    "            sent  = sent.split(' ')\n",
    "            s_em = np.zeros(300)\n",
    "            if idf is False:\n",
    "                # mean of word vectors\n",
    "                n = len(sent)\n",
    "                for i in range(n):\n",
    "                    #s_em = np.add(s_em,w2v.word2vec[sent[i]])\n",
    "\n",
    "                    if sent[i] in w2v.words:\n",
    "                        s_em = np.add(s_em,w2v.word2vec[sent[i]])\n",
    "            else:\n",
    "                # idf-weighted mean of word vectors\n",
    "                n = len(sent)\n",
    "                for i in range(n):\n",
    "                    #s_em = np.add(s_em,idf[sent[i]]*w2v.word2vec[sent[i]])\n",
    "                    if sent[i] in w2v.words:\n",
    "                        s_em += idf[sent[i]]*w2v.word2vec[sent[i]]\n",
    "            s_em = (1./n)*s_em\n",
    "            sentemb.append(s_em)                \n",
    "        return np.vstack(sentemb)\n",
    "\n",
    "    def most_similar(self, s, sentences, idf=False, K=5):\n",
    "        # get most similar sentences and **print** them\n",
    "        keys = self.encode(sentences, idf)\n",
    "        query = self.encode([s], idf)\n",
    "        scores = np.array([])\n",
    "        n = keys.shape[0]\n",
    "        print(n)\n",
    "\n",
    "        for i in range(n):\n",
    "            score = (query.dot(keys[i]))/(np.linalg.norm(query)*np.linalg.norm(keys[i]))\n",
    "            #print(score)\n",
    "            scores = np.append(scores,[score])\n",
    "        \n",
    "        scores_ind = np.argsort(scores)\n",
    "        \n",
    "        return ([sentences[i] for i in scores_ind[-K-1:-1]])\n",
    "\n",
    "    def score(self, s1, s2, idf=False):\n",
    "        # cosine similarity: use   np.dot  and  np.linalg.norm\n",
    "        s_embs = self.encode([s1,s2],idf)\n",
    "        s_e1 = s_embs[0,:]\n",
    "        s_e2 = s_embs[1,:]\n",
    "        return ((s_e1.dot(s_e2))/(np.linalg.norm(s_e1)*np.linalg.norm(s_e2)))\n",
    "    \n",
    "    def build_idf(self, sentences):\n",
    "        # build the idf dictionary: associate each word to its idf value\n",
    "        idf = {}\n",
    "        for sent in sentences:\n",
    "            sent  = sent.split(' ')\n",
    "            for w in set(sent):\n",
    "                idf[w] = idf.get(w, 0) + 1\n",
    "        for w in list(idf.keys()):\n",
    "            idf[w] = max(1, np.log10(len(sentences) / (idf[w])))\n",
    "            \n",
    "        # max(1, np.log10(len(sentences) / (idf[word])))\n",
    "        return(idf)"
   ]
  },
  {
   "cell_type": "code",
   "execution_count": 6,
   "metadata": {},
   "outputs": [
    {
     "name": "stdout",
     "output_type": "stream",
     "text": [
      "Loaded 20000 pretrained word vectors\n",
      "150737\n"
     ]
    },
    {
     "name": "stderr",
     "output_type": "stream",
     "text": [
      "/Users/raphael/anaconda3/lib/python3.6/site-packages/ipykernel_launcher.py:41: RuntimeWarning: invalid value encountered in true_divide\n"
     ]
    },
    {
     "name": "stdout",
     "output_type": "stream",
     "text": [
      "['young boy on a motorcycle smiling . ', 'a small boy in goggles smiling . ', 'a little african american boy and girl looking up . ', 'an african american man smiling . ', '1 smiling african american boy . ']\n",
      "0.5936035444177409\n",
      "150737\n",
      "['a little african american boy and girl looking up . ', '2 guys facing away from camera , 1 girl smiling at camera with blue shirt , 1 guy with a beverage with a jacket on . ', '5 women and 1 man are smiling for the camera . ', 'an african american man smiling . ', '1 smiling african american boy . ']\n",
      "0.5004864201738877\n"
     ]
    }
   ],
   "source": [
    "w2v = Word2vec(os.path.join(PATH_TO_DATA, 'crawl-300d-200k.vec'), nmax=20000)\n",
    "s2v = BoV(w2v)\n",
    "\n",
    "\n",
    "# Load sentences in \"PATH_TO_DATA/sentences.txt\"\n",
    "text_file = open(\"data/sentences.txt\",'r')\n",
    "sentences = text_file.read().split('\\n')\n",
    "\n",
    "# Build idf scores for each word\n",
    "idf = {} if True else s2v.build_idf(sentences)\n",
    "# You will be evaluated on the output of the following:\n",
    "print(s2v.most_similar('' if not sentences else sentences[10], sentences)) # BoV-mean\n",
    "print(s2v.score('' if not sentences else sentences[7], '' if not sentences else sentences[13]))\n",
    "\n",
    "idf = s2v.build_idf(sentences)\n",
    "print(s2v.most_similar('' if not sentences else sentences[10], sentences, idf) ) # BoV-idf\n",
    "print(s2v.score('' if not sentences else sentences[7], '' if not sentences else sentences[13], idf))\n",
    "\n",
    "\n",
    "\n"
   ]
  },
  {
   "cell_type": "markdown",
   "metadata": {},
   "source": [
    "# 2) Multilingual (English-French) word embeddings"
   ]
  },
  {
   "cell_type": "markdown",
   "metadata": {},
   "source": [
    "Let's consider a bilingual dictionary of size V_a (e.g French-English).\n",
    "\n",
    "Let's define **X** and **Y** the **French** and **English** matrices.\n",
    "\n",
    "They contain the embeddings associated to the words in the bilingual dictionary.\n",
    "\n",
    "We want to find a **mapping W** that will project the source word space (e.g French) to the target word space (e.g English).\n",
    "\n",
    "Procrustes : **W\\* = argmin || W.X - Y ||  s.t  W^T.W = Id**\n",
    "has a closed form solution:\n",
    "**W = U.V^T  where  U.Sig.V^T = SVD(Y.X^T)**\n",
    "\n",
    "In what follows, you are asked to: "
   ]
  },
  {
   "cell_type": "code",
   "execution_count": 7,
   "metadata": {
    "collapsed": true
   },
   "outputs": [],
   "source": [
    "# 1 - Download and load 50k first vectors of\n",
    "#     https://s3-us-west-1.amazonaws.com/fasttext-vectors/wiki.en.vec\n",
    "#     https://s3-us-west-1.amazonaws.com/fasttext-vectors/wiki.fr.vec\n",
    "\n",
    "#!wget https://s3-us-west-1.amazonaws.com/fasttext-vectors/wiki.en.vec\n",
    "#!wget https://s3-us-west-1.amazonaws.com/fasttext-vectors/wiki.fr.vec\n",
    "En = {}\n",
    "with open('wiki.en.vec') as f:\n",
    "    for i in range(50001):\n",
    "        line = f.readline()\n",
    "        w = line.split(' ')\n",
    "        if i>0:\n",
    "            En[w[0]] = np.array([float(w[i])for i in range(1,301)])\n",
    "\n",
    "\n",
    "Fr = {}\n",
    "with open('wiki.fr.vec') as f:\n",
    "    for i in range(50001):\n",
    "        line = f.readline()\n",
    "        w = line.split(' ')\n",
    "        if i>0:\n",
    "            Fr[w[0]] = np.array([float(w[i])for i in range(1,301)])\n"
   ]
  },
  {
   "cell_type": "code",
   "execution_count": 8,
   "metadata": {
    "collapsed": true
   },
   "outputs": [],
   "source": [
    "# 2 - Get words that appear in both vocabs (= identical character strings)\n",
    "#     Use it to create the matrix X and Y (of aligned embeddings for these words)\n",
    "\n",
    "voc_en = set(En.keys())\n",
    "voc_fr = set(Fr.keys())\n",
    "\n",
    "vocab = list(voc_en.intersection(voc_fr))\n",
    "\n",
    "X = []\n",
    "Y = []\n",
    "for i in range(len(vocab)):\n",
    "    X.append(En[vocab[i]])\n",
    "    Y.append(Fr[vocab[i]])\n",
    "\n",
    "X = np.array(X)\n",
    "Y = np.array(Y)\n",
    "    \n",
    "\n"
   ]
  },
  {
   "cell_type": "code",
   "execution_count": 9,
   "metadata": {
    "collapsed": true
   },
   "outputs": [],
   "source": [
    "# 3 - Solve the Procrustes using the scipy package and: scipy.linalg.svd() and get the optimal W\n",
    "#     Now W*French_vector is in the same space as English_vector\n",
    "from scipy import linalg\n",
    "# TYPE CODE HERE\n",
    "A = Y.T.dot(X)\n",
    "U,S,Vt = scipy.linalg.svd(A)\n",
    "W = U.dot(Vt)\n",
    "\n",
    "\n"
   ]
  },
  {
   "cell_type": "code",
   "execution_count": 10,
   "metadata": {},
   "outputs": [
    {
     "name": "stdout",
     "output_type": "stream",
     "text": [
      "The closest word to peinte is : painted\n",
      "The closest word to treize is : eleven\n",
      "The closest word to laïque is : secular\n",
      "The closest word to créées is : created\n",
      "The closest word to barbu is : bearded\n",
      "The closest word to nordiques is : scandinavian\n"
     ]
    }
   ],
   "source": [
    "# 4 - After alignment with W, give examples of English nearest neighbors of some French words (and vice versa)\n",
    "#     You will be evaluated on that part and the code above\n",
    "import operator\n",
    "# TYPE CODE HERE\n",
    "\n",
    "voc_fr\n",
    "w1='peinte'\n",
    "w2= 'treize'\n",
    "w3 = 'laïque'\n",
    "w4 = 'créées'\n",
    "w5 =  'barbu'\n",
    "w6 = 'nordiques'\n",
    "\n",
    "def nearest_neighbors(w):\n",
    "    neighbors = {}\n",
    "    for word_en in voc_en:\n",
    "        neighbors[word_en] = np.linalg.norm(W.dot(En[word_en]) - Fr[w])\n",
    "    sorted_neighbors = sorted(neighbors.items(), key=operator.itemgetter(1))\n",
    "    return(sorted_neighbors[0])\n",
    "\n",
    "print('The closest word to '+w1+' is : '+ nearest_neighbors(w1)[0])\n",
    "print('The closest word to '+w2+' is : '+ nearest_neighbors(w2)[0])\n",
    "print('The closest word to '+w3+' is : '+ nearest_neighbors(w3)[0])\n",
    "print('The closest word to '+w4+' is : '+ nearest_neighbors(w4)[0])\n",
    "print('The closest word to '+w5+' is : '+ nearest_neighbors(w5)[0])\n",
    "print('The closest word to '+w6+' is : '+ nearest_neighbors(w6)[0])\n"
   ]
  },
  {
   "cell_type": "markdown",
   "metadata": {},
   "source": [
    "If you want to dive deeper on this subject: https://github.com/facebookresearch/MUSE"
   ]
  },
  {
   "cell_type": "markdown",
   "metadata": {},
   "source": [
    "# 3) Sentence classification with BoV and scikit-learn"
   ]
  },
  {
   "cell_type": "code",
   "execution_count": 11,
   "metadata": {
    "collapsed": true
   },
   "outputs": [],
   "source": [
    "# 1 - Load train/dev/test of Stanford Sentiment TreeBank (SST)\n",
    "#     (https://nlp.stanford.edu/~socherr/EMNLP2013_RNTN.pdf)\n",
    "\n",
    "## LOADING VAL DATA\n",
    "with open('data/SST/stsa.fine.dev') as f:\n",
    "    lines = f.readlines()\n",
    "n = len(lines)\n",
    "X = []\n",
    "Y = []\n",
    "for i in range(n):\n",
    "    Y.append(int(lines[i][0]))\n",
    "    l_i = len(lines[i])\n",
    "    X.append(lines[i][2:l_i-1])\n",
    "X_val = np.array(X)\n",
    "Y_val = np.array(Y)\n",
    "\n",
    "\n",
    "## LOADING TRAIN DATA\n",
    "with open('data/SST/stsa.fine.train') as f:\n",
    "    lines = f.readlines()\n",
    "n = len(lines)\n",
    "X = []\n",
    "Y = []\n",
    "for i in range(n):\n",
    "    Y.append(int(lines[i][0]))\n",
    "    l_i = len(lines[i])\n",
    "    X.append(lines[i][2:l_i-1])\n",
    "X_train = np.array(X)\n",
    "Y_train = np.array(Y)\n",
    "\n",
    "\n",
    "\n",
    "## LOADING TEST DATA\n",
    "with open('data/SST/stsa.fine.test.X') as f:\n",
    "    lines = f.readlines()\n",
    "l = []\n",
    "for line in lines:\n",
    "    line = line.split('\\n')\n",
    "    l.append(line[0])\n",
    "X_test = np.array(l)\n",
    "\n",
    "    "
   ]
  },
  {
   "cell_type": "code",
   "execution_count": 12,
   "metadata": {},
   "outputs": [],
   "source": [
    "# 2 - Encode sentences with the BoV model above\n",
    "\n",
    "\n",
    "X_train_emb = s2v.encode(X_train)\n",
    "X_test_emb = s2v.encode(X_test)\n",
    "X_val_emb = s2v.encode(X_val)\n",
    "\n",
    "idf = s2v.build_idf(X_train)\n",
    "X_train_emb_idf = s2v.encode(X_train,idf)\n",
    "\n",
    "idf = s2v.build_idf(X_test)\n",
    "X_test_emb_idf = s2v.encode(X_test,idf)\n",
    "\n",
    "idf = s2v.build_idf(X_val)\n",
    "X_val_emb_idf = s2v.encode(X_val,idf)"
   ]
  },
  {
   "cell_type": "code",
   "execution_count": 13,
   "metadata": {},
   "outputs": [
    {
     "name": "stdout",
     "output_type": "stream",
     "text": [
      "0.4 : 0.4187102633969119\n",
      "0.4 : 0.45271535580524347\n",
      "0.75 : 0.38782924613987285\n",
      "0.75 : 0.44417134831460675\n"
     ]
    }
   ],
   "source": [
    "# 3 - Learn Logistic Regression on top of sentence embeddings using scikit-learn\n",
    "#     (consider tuning the L2 regularization on the dev set)\n",
    "from sklearn.linear_model import LogisticRegression\n",
    "C = [0.4]\n",
    "for c in C :\n",
    "    clf1 = LogisticRegression(random_state=0, solver='lbfgs',multi_class='multinomial',C = c).fit(X_train_emb, Y_train)\n",
    "    print(str(c)+ \" : \" +str(clf1.score(X_val_emb, Y_val)))\n",
    "print(str(c)+ \" : \" +str(clf1.score(X_train_emb, Y_train)))\n",
    "C = [0.75]\n",
    "for c in C :\n",
    "    clf2 = LogisticRegression(random_state=0, solver='lbfgs',multi_class='multinomial',C = c).fit(X_train_emb_idf, Y_train)\n",
    "    print(str(c)+ \" : \" +str(clf2.score(X_val_emb, Y_val)))\n",
    "print(str(c)+ \" : \" +str(clf1.score(X_train_emb_idf, Y_train)))\n",
    "\n"
   ]
  },
  {
   "cell_type": "code",
   "execution_count": 14,
   "metadata": {},
   "outputs": [],
   "source": [
    "# 4 - Produce 2210 predictions for the test set (in the same order). One line = one prediction (=0,1,2,3,4).\n",
    "#     Attach the output file \"logreg_bov_y_test_sst.txt\" to your deliverable.\n",
    "#     You will be evaluated on the results of the test set.\n",
    "\n",
    "# TYPE CODE HERE\n",
    "Y1 = clf1.predict(X_test_emb)\n",
    "Y2 = clf2.predict(X_test_emb_idf)\n",
    "\n",
    "file = open('logreg_bov_y_test_sst.txt','w') \n",
    "for i in range (Y1.shape[0]):\n",
    "    file.write(str(Y1[i])+ '\\n') \n",
    "file.close() \n"
   ]
  },
  {
   "cell_type": "code",
   "execution_count": 15,
   "metadata": {
    "collapsed": true
   },
   "outputs": [],
   "source": [
    "# BONUS!\n",
    "# 5 - Try to improve performance with another classifier\n",
    "#     Attach the output file \"XXX_bov_y_test_sst.txt\" to your deliverable (where XXX = the name of the classifier)\n"
   ]
  },
  {
   "cell_type": "markdown",
   "metadata": {},
   "source": [
    "# 4) Sentence classification with LSTMs in Keras"
   ]
  },
  {
   "cell_type": "markdown",
   "metadata": {},
   "source": [
    "## 4.1 - Preprocessing"
   ]
  },
  {
   "cell_type": "code",
   "execution_count": 16,
   "metadata": {},
   "outputs": [
    {
     "name": "stderr",
     "output_type": "stream",
     "text": [
      "/Users/raphael/anaconda3/lib/python3.6/site-packages/h5py/__init__.py:34: FutureWarning: Conversion of the second argument of issubdtype from `float` to `np.floating` is deprecated. In future, it will be treated as `np.float64 == np.dtype(float).type`.\n",
      "  from ._conv import register_converters as _register_converters\n",
      "Using TensorFlow backend.\n"
     ]
    }
   ],
   "source": [
    "import keras"
   ]
  },
  {
   "cell_type": "code",
   "execution_count": 17,
   "metadata": {
    "collapsed": true
   },
   "outputs": [],
   "source": [
    "# 1 - Load train/dev/test sets of SST\n",
    "from keras.utils import np_utils\n",
    "## LOADING VAL DATA\n",
    "with open('data/SST/stsa.fine.dev') as f:\n",
    "    lines = f.readlines()\n",
    "n = len(lines)\n",
    "X = []\n",
    "Y = []\n",
    "for i in range(n):\n",
    "    Y.append(int(lines[i][0]))\n",
    "    l_i = len(lines[i])\n",
    "    X.append(lines[i][2:l_i-1])\n",
    "X_val = np.array(X)\n",
    "Y_val = np.array(Y)\n",
    "Y_val = np_utils.to_categorical(Y_val)\n",
    "\n",
    "## LOADING TRAIN DATA\n",
    "with open('data/SST/stsa.fine.train') as f:\n",
    "    lines = f.readlines()\n",
    "n = len(lines)\n",
    "X = []\n",
    "Y = []\n",
    "for i in range(n):\n",
    "    Y.append(int(lines[i][0]))\n",
    "    l_i = len(lines[i])\n",
    "    X.append(lines[i][2:l_i-1])\n",
    "X_train = np.array(X)\n",
    "Y_train = np.array(Y)\n",
    "Y_train = np_utils.to_categorical(Y_train)\n",
    "\n",
    "\n",
    "## LOADING TEST DATA\n",
    "with open('data/SST/stsa.fine.test.X') as f:\n",
    "    lines = f.readlines()\n",
    "l = []\n",
    "for line in lines:\n",
    "    line = line.split('\\n')\n",
    "    l.append(line[0])\n",
    "X_test = np.array(l)\n",
    "#Y_val = np_utils.to_categorical(Y_val)"
   ]
  },
  {
   "cell_type": "code",
   "execution_count": 18,
   "metadata": {},
   "outputs": [],
   "source": [
    "# 2 - Transform text to integers using keras.preprocessing.text.one_hot function\n",
    "#     https://keras.io/preprocessing/text/\n",
    "\n",
    "train_sentences = list(X_train)\n",
    "dev_sentences = list(X_val)\n",
    "test_sentences = list(X_test)\n",
    "\n",
    "from keras.preprocessing.text import one_hot\n",
    "train = []\n",
    "dev = []\n",
    "test = []\n",
    "for sent in train_sentences:\n",
    "    train.append(one_hot(sent, 20000))\n",
    "for sent in dev_sentences:\n",
    "    dev.append(one_hot(sent, 20000))\n",
    "for sent in test_sentences:\n",
    "    test.append(one_hot(sent, 20000))\n",
    "\n"
   ]
  },
  {
   "cell_type": "markdown",
   "metadata": {},
   "source": [
    "**Padding input data**\n",
    "\n",
    "Models in Keras (and elsewhere) take batches of sentences of the same length as input. It is because Deep Learning framework have been designed to handle well Tensors, which are particularly suited for fast computation on the GPU.\n",
    "\n",
    "Since sentences have different sizes, we \"pad\" them. That is, we add dummy \"padding\" tokens so that they all have the same length.\n",
    "\n",
    "The input to a Keras model thus has this size : (batchsize, maxseqlen) where maxseqlen is the maximum length of a sentence in the batch."
   ]
  },
  {
   "cell_type": "code",
   "execution_count": 19,
   "metadata": {},
   "outputs": [],
   "source": [
    "# 3 - Pad your sequences using keras.preprocessing.sequence.pad_sequences\n",
    "#     https://keras.io/preprocessing/sequence/\n",
    "test = keras.preprocessing.sequence.pad_sequences(test,padding='pre', truncating='pre')\n",
    "dev = keras.preprocessing.sequence.pad_sequences(dev,padding='pre', truncating='pre')\n",
    "train = keras.preprocessing.sequence.pad_sequences(train,padding='pre', truncating='pre')\n"
   ]
  },
  {
   "cell_type": "markdown",
   "metadata": {},
   "source": [
    "## 4.2 - Design and train your model"
   ]
  },
  {
   "cell_type": "code",
   "execution_count": 20,
   "metadata": {},
   "outputs": [
    {
     "name": "stderr",
     "output_type": "stream",
     "text": [
      "/Users/raphael/anaconda3/lib/python3.6/site-packages/ipykernel_launcher.py:20: UserWarning: Update your `LSTM` call to the Keras 2 API: `LSTM(64, dropout=0.5, recurrent_dropout=0.5)`\n"
     ]
    }
   ],
   "source": [
    "# 4 - Design your encoder + classifier using keras.layers\n",
    "#     In Keras, Torch and other deep learning framework, we create a \"container\" which is the Sequential() module.\n",
    "#     Then we add components to this contained : the lookuptable, the LSTM, the classifier etc.\n",
    "#     All of these components are contained in the Sequential() and are trained together.\n",
    "\n",
    "\n",
    "# ADAPT CODE BELOW\n",
    "\n",
    "\n",
    "from keras.models import Sequential\n",
    "from keras.layers import Embedding, LSTM, Dense, Activation\n",
    "\n",
    "embed_dim  = 32  # word embedding dimension\n",
    "nhid       = 64  # number of hidden units in the LSTM\n",
    "vocab_size = 20000  # size of the vocabulary\n",
    "n_classes  = 5\n",
    "\n",
    "model = Sequential()\n",
    "model.add(Embedding(vocab_size, embed_dim))\n",
    "model.add(LSTM(nhid, dropout_W=0.5, dropout_U=0.5))\n",
    "model.add(Dense(n_classes, activation='softmax'))\n"
   ]
  },
  {
   "cell_type": "code",
   "execution_count": 21,
   "metadata": {},
   "outputs": [
    {
     "name": "stdout",
     "output_type": "stream",
     "text": [
      "_________________________________________________________________\n",
      "Layer (type)                 Output Shape              Param #   \n",
      "=================================================================\n",
      "embedding_1 (Embedding)      (None, None, 32)          640000    \n",
      "_________________________________________________________________\n",
      "lstm_1 (LSTM)                (None, 64)                24832     \n",
      "_________________________________________________________________\n",
      "dense_1 (Dense)              (None, 5)                 325       \n",
      "=================================================================\n",
      "Total params: 665,157\n",
      "Trainable params: 665,157\n",
      "Non-trainable params: 0\n",
      "_________________________________________________________________\n",
      "None\n"
     ]
    }
   ],
   "source": [
    "# 5 - Define your loss/optimizer/metrics\n",
    "\n",
    "# MODIFY CODE BELOW\n",
    "\n",
    "loss_classif     =  'categorical_crossentropy' # find the right loss for multi-class classification\n",
    "optimizer        =  keras.optimizers.Adam(lr=0.001, beta_1=0.9, beta_2=0.999, epsilon=None, decay=0.0, amsgrad=False)\n",
    "metrics_classif  =  ['accuracy']\n",
    "\n",
    "# Observe how easy (but blackboxed) this is in Keras\n",
    "model.compile(loss=loss_classif,\n",
    "              optimizer=optimizer,\n",
    "              metrics=metrics_classif)\n",
    "print(model.summary())"
   ]
  },
  {
   "cell_type": "code",
   "execution_count": 22,
   "metadata": {},
   "outputs": [
    {
     "name": "stderr",
     "output_type": "stream",
     "text": [
      "/Users/raphael/anaconda3/lib/python3.6/site-packages/ipykernel_launcher.py:9: UserWarning: The `nb_epoch` argument in `fit` has been renamed `epochs`.\n",
      "  if __name__ == '__main__':\n"
     ]
    },
    {
     "name": "stdout",
     "output_type": "stream",
     "text": [
      "Train on 8544 samples, validate on 1101 samples\n",
      "Epoch 1/4\n",
      "8544/8544 [==============================] - 31s 4ms/step - loss: 1.5710 - acc: 0.2830 - val_loss: 1.5581 - val_acc: 0.3351\n",
      "Epoch 2/4\n",
      "8544/8544 [==============================] - 25s 3ms/step - loss: 1.4665 - acc: 0.3687 - val_loss: 1.4418 - val_acc: 0.3633\n",
      "Epoch 3/4\n",
      "8544/8544 [==============================] - 21s 2ms/step - loss: 1.2471 - acc: 0.4707 - val_loss: 1.4334 - val_acc: 0.3778\n",
      "Epoch 4/4\n",
      "8544/8544 [==============================] - 21s 2ms/step - loss: 1.0468 - acc: 0.5829 - val_loss: 1.4789 - val_acc: 0.3787\n"
     ]
    }
   ],
   "source": [
    "# 6 - Train your model and find the best hyperparameters for your dev set\n",
    "#     you will be evaluated on the quality of your predictions on the test set\n",
    "\n",
    "# ADAPT CODE BELOW\n",
    "bs = 32\n",
    "n_epochs = 4\n",
    "\n",
    "\n",
    "history = model.fit(train, Y_train, batch_size=bs, nb_epoch=n_epochs, validation_data=(dev, Y_val))"
   ]
  },
  {
   "cell_type": "code",
   "execution_count": 23,
   "metadata": {},
   "outputs": [
    {
     "name": "stdout",
     "output_type": "stream",
     "text": [
      "dict_keys(['val_loss', 'val_acc', 'loss', 'acc'])\n"
     ]
    },
    {
     "data": {
      "image/png": "[encoded data removed]",
      "text/plain": [
       "<matplotlib.figure.Figure at 0x1a2461ecc0>"
      ]
     },
     "metadata": {},
     "output_type": "display_data"
    },
    {
     "data": {
      "image/png": "[encoded data removed]",
      "text/plain": [
       "<matplotlib.figure.Figure at 0x1a30fb1f60>"
      ]
     },
     "metadata": {},
     "output_type": "display_data"
    }
   ],
   "source": [
    "import matplotlib.pyplot as plt\n",
    "#plt.plot(history)\n",
    "print(history.history.keys())\n",
    "plt.plot(history.history['val_loss'], label = 'validation loss')\n",
    "plt.plot(history.history['loss'], label = 'training loss')\n",
    "plt.legend()\n",
    "plt.show()\n",
    "\n",
    "plt.plot(history.history['val_acc'], label = 'validation accuracy')\n",
    "plt.plot(history.history['acc'], label = 'training accuracy')\n",
    "plt.legend()\n",
    "plt.show()"
   ]
  },
  {
   "cell_type": "code",
   "execution_count": 24,
   "metadata": {
    "collapsed": true
   },
   "outputs": [],
   "source": [
    "# 7 - Generate your predictions on the test set using model.predict(x_test)\n",
    "#     https://keras.io/models/model/\n",
    "#     Log your predictions in a file (one line = one integer: 0,1,2,3,4)\n",
    "#     Attach the output file \"logreg_lstm_y_test_sst.txt\" to your deliverable.\n",
    "\n",
    "Y_lstm = model.predict(test)\n",
    "\n",
    "file = open('logreg_lstm_y_test_sst.txt','w') \n",
    "for i in range (Y_lstm.shape[0]):\n",
    "    file.write(str(np.argmax(Y_lstm[i]))+ '\\n') \n",
    "file.close() "
   ]
  },
  {
   "cell_type": "markdown",
   "metadata": {},
   "source": [
    "## 4.3 -- innovate !"
   ]
  },
  {
   "cell_type": "code",
   "execution_count": 25,
   "metadata": {
    "collapsed": true
   },
   "outputs": [],
   "source": [
    "# 8 - Open question: find a model that is better on your dev set\n",
    "#     (e.g: use a 1D ConvNet, use a better classifier, pretrain your lookup tables ..)\n",
    "#     you will get point if the results on the test set are better: be careful of not overfitting your dev set too much..\n",
    "#     Attach the output file \"XXX_XXX_y_test_sst.txt\" to your deliverable.\n",
    "\n"
   ]
  }
 ],
 "metadata": {
  "kernelspec": {
   "display_name": "Python 3",
   "language": "python",
   "name": "python3"
  },
  "language_info": {
   "codemirror_mode": {
    "name": "ipython",
    "version": 3
   },
   "file_extension": ".py",
   "mimetype": "text/x-python",
   "name": "python",
   "nbconvert_exporter": "python",
   "pygments_lexer": "ipython3",
   "version": "3.6.3"
  }
 },
 "nbformat": 4,
 "nbformat_minor": 1
}
